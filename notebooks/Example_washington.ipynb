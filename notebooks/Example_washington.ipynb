{
 "cells": [
  {
   "cell_type": "code",
   "execution_count": 1,
   "metadata": {},
   "outputs": [
    {
     "name": "stdout",
     "output_type": "stream",
     "text": [
      "Covasim 0.26.7 (2020-04-10) — © 2020 by IDM\n"
     ]
    }
   ],
   "source": [
    "import pandas as pd\n",
    "import covasim as cv\n",
    "import altair as alt\n",
    "import numpy as np\n",
    "import datetime"
   ]
  },
  {
   "cell_type": "markdown",
   "metadata": {},
   "source": [
    "# Ground truth\n",
    "\n",
    "We will use JH dataset to get time series of infections and deaths"
   ]
  },
  {
   "cell_type": "code",
   "execution_count": 2,
   "metadata": {},
   "outputs": [],
   "source": [
    "state = \"Washington\"\n",
    "pop_size = 7614893"
   ]
  },
  {
   "cell_type": "code",
   "execution_count": 3,
   "metadata": {},
   "outputs": [],
   "source": [
    "df_deaths = pd.read_csv(\"https://raw.githubusercontent.com/CSSEGISandData/COVID-19/master/csse_covid_19_data/csse_covid_19_time_series/time_series_covid19_deaths_US.csv\")\n",
    "df_confirmed = pd.read_csv(\"https://raw.githubusercontent.com/CSSEGISandData/COVID-19/master/csse_covid_19_data/csse_covid_19_time_series/time_series_covid19_confirmed_US.csv\")"
   ]
  },
  {
   "cell_type": "code",
   "execution_count": 4,
   "metadata": {},
   "outputs": [],
   "source": [
    "WA_cases = df_confirmed[df_confirmed[\"Province_State\"] == state]\n",
    "WA_deaths = df_deaths[df_confirmed[\"Province_State\"] == state]"
   ]
  },
  {
   "cell_type": "code",
   "execution_count": null,
   "metadata": {},
   "outputs": [],
   "source": [
    "def get_time_series(df, col_n):\n",
    "    vals = df[df.columns[col_n:]].values\n",
    "    return np.sum(vals, axis=0)\n",
    "\n",
    "WA_cases_ts = get_time_series(WA_cases, col_n=11)\n",
    "WA_deaths_ts = get_time_series(WA_deaths, col_n=12)"
   ]
  },
  {
   "cell_type": "code",
   "execution_count": null,
   "metadata": {},
   "outputs": [
    {
     "data": {
      "text/html": [
       "<div>\n",
       "<style scoped>\n",
       "    .dataframe tbody tr th:only-of-type {\n",
       "        vertical-align: middle;\n",
       "    }\n",
       "\n",
       "    .dataframe tbody tr th {\n",
       "        vertical-align: top;\n",
       "    }\n",
       "\n",
       "    .dataframe thead th {\n",
       "        text-align: right;\n",
       "    }\n",
       "</style>\n",
       "<table border=\"1\" class=\"dataframe\">\n",
       "  <thead>\n",
       "    <tr style=\"text-align: right;\">\n",
       "      <th></th>\n",
       "      <th>date</th>\n",
       "      <th>cases</th>\n",
       "      <th>deaths</th>\n",
       "    </tr>\n",
       "  </thead>\n",
       "  <tbody>\n",
       "    <tr>\n",
       "      <th>0</th>\n",
       "      <td>2020-01-22</td>\n",
       "      <td>1</td>\n",
       "      <td>0</td>\n",
       "    </tr>\n",
       "    <tr>\n",
       "      <th>1</th>\n",
       "      <td>2020-01-23</td>\n",
       "      <td>1</td>\n",
       "      <td>0</td>\n",
       "    </tr>\n",
       "    <tr>\n",
       "      <th>2</th>\n",
       "      <td>2020-01-24</td>\n",
       "      <td>1</td>\n",
       "      <td>0</td>\n",
       "    </tr>\n",
       "    <tr>\n",
       "      <th>3</th>\n",
       "      <td>2020-01-25</td>\n",
       "      <td>1</td>\n",
       "      <td>0</td>\n",
       "    </tr>\n",
       "    <tr>\n",
       "      <th>4</th>\n",
       "      <td>2020-01-26</td>\n",
       "      <td>1</td>\n",
       "      <td>0</td>\n",
       "    </tr>\n",
       "    <tr>\n",
       "      <th>5</th>\n",
       "      <td>2020-01-27</td>\n",
       "      <td>1</td>\n",
       "      <td>0</td>\n",
       "    </tr>\n",
       "    <tr>\n",
       "      <th>6</th>\n",
       "      <td>2020-01-28</td>\n",
       "      <td>1</td>\n",
       "      <td>0</td>\n",
       "    </tr>\n",
       "    <tr>\n",
       "      <th>7</th>\n",
       "      <td>2020-01-29</td>\n",
       "      <td>1</td>\n",
       "      <td>0</td>\n",
       "    </tr>\n",
       "    <tr>\n",
       "      <th>8</th>\n",
       "      <td>2020-01-30</td>\n",
       "      <td>1</td>\n",
       "      <td>0</td>\n",
       "    </tr>\n",
       "    <tr>\n",
       "      <th>9</th>\n",
       "      <td>2020-01-31</td>\n",
       "      <td>1</td>\n",
       "      <td>0</td>\n",
       "    </tr>\n",
       "  </tbody>\n",
       "</table>\n",
       "</div>"
      ],
      "text/plain": [
       "        date  cases  deaths\n",
       "0 2020-01-22      1       0\n",
       "1 2020-01-23      1       0\n",
       "2 2020-01-24      1       0\n",
       "3 2020-01-25      1       0\n",
       "4 2020-01-26      1       0\n",
       "5 2020-01-27      1       0\n",
       "6 2020-01-28      1       0\n",
       "7 2020-01-29      1       0\n",
       "8 2020-01-30      1       0\n",
       "9 2020-01-31      1       0"
      ]
     },
     "execution_count": 6,
     "metadata": {},
     "output_type": "execute_result"
    }
   ],
   "source": [
    "ground_truth = pd.DataFrame(columns=[\"date\", \"cases\", \"deaths\"])\n",
    "ground_truth[\"date\"] = pd.to_datetime(WA_cases.columns[11:])\n",
    "ground_truth[\"cases\"] = WA_cases_ts\n",
    "ground_truth[\"deaths\"] = WA_deaths_ts\n",
    "ground_truth.head(10)"
   ]
  },
  {
   "cell_type": "code",
   "execution_count": null,
   "metadata": {},
   "outputs": [
    {
     "data": {
      "text/html": [
       "\n",
       "<div id=\"altair-viz-7abb2ed9b9b7411885144bfccc27e615\"></div>\n",
       "<script type=\"text/javascript\">\n",
       "  (function(spec, embedOpt){\n",
       "    let outputDiv = document.currentScript.previousElementSibling;\n",
       "    if (outputDiv.id !== \"altair-viz-7abb2ed9b9b7411885144bfccc27e615\") {\n",
       "      outputDiv = document.getElementById(\"altair-viz-7abb2ed9b9b7411885144bfccc27e615\");\n",
       "    }\n",
       "    const paths = {\n",
       "      \"vega\": \"https://cdn.jsdelivr.net/npm//vega@5?noext\",\n",
       "      \"vega-lib\": \"https://cdn.jsdelivr.net/npm//vega-lib?noext\",\n",
       "      \"vega-lite\": \"https://cdn.jsdelivr.net/npm//vega-lite@4.8.1?noext\",\n",
       "      \"vega-embed\": \"https://cdn.jsdelivr.net/npm//vega-embed@6?noext\",\n",
       "    };\n",
       "\n",
       "    function loadScript(lib) {\n",
       "      return new Promise(function(resolve, reject) {\n",
       "        var s = document.createElement('script');\n",
       "        s.src = paths[lib];\n",
       "        s.async = true;\n",
       "        s.onload = () => resolve(paths[lib]);\n",
       "        s.onerror = () => reject(`Error loading script: ${paths[lib]}`);\n",
       "        document.getElementsByTagName(\"head\")[0].appendChild(s);\n",
       "      });\n",
       "    }\n",
       "\n",
       "    function showError(err) {\n",
       "      outputDiv.innerHTML = `<div class=\"error\" style=\"color:red;\">${err}</div>`;\n",
       "      throw err;\n",
       "    }\n",
       "\n",
       "    function displayChart(vegaEmbed) {\n",
       "      vegaEmbed(outputDiv, spec, embedOpt)\n",
       "        .catch(err => showError(`Javascript Error: ${err.message}<br>This usually means there's a typo in your chart specification. See the javascript console for the full traceback.`));\n",
       "    }\n",
       "\n",
       "    if(typeof define === \"function\" && define.amd) {\n",
       "      requirejs.config({paths});\n",
       "      require([\"vega-embed\"], displayChart, err => showError(`Error loading script: ${err.message}`));\n",
       "    } else if (typeof vegaEmbed === \"function\") {\n",
       "      displayChart(vegaEmbed);\n",
       "    } else {\n",
       "      loadScript(\"vega\")\n",
       "        .then(() => loadScript(\"vega-lite\"))\n",
       "        .then(() => loadScript(\"vega-embed\"))\n",
       "        .catch(showError)\n",
       "        .then(() => displayChart(vegaEmbed));\n",
       "    }\n",
       "  })({\"config\": {\"view\": {\"continuousWidth\": 400, \"continuousHeight\": 300}}, \"layer\": [{\"mark\": \"line\", \"encoding\": {\"x\": {\"type\": \"temporal\", \"field\": \"date\"}, \"y\": {\"type\": \"quantitative\", \"field\": \"cases\"}}, \"width\": 550}, {\"mark\": \"line\", \"encoding\": {\"x\": {\"type\": \"temporal\", \"field\": \"date\"}, \"y\": {\"type\": \"quantitative\", \"field\": \"deaths\"}}, \"width\": 550}], \"data\": {\"name\": \"data-b4738304f244be9d71bb210f536f3e4e\"}, \"$schema\": \"https://vega.github.io/schema/vega-lite/v4.8.1.json\", \"datasets\": {\"data-b4738304f244be9d71bb210f536f3e4e\": [{\"date\": \"2020-01-22T00:00:00\", \"cases\": 1, \"deaths\": 0}, {\"date\": \"2020-01-23T00:00:00\", \"cases\": 1, \"deaths\": 0}, {\"date\": \"2020-01-24T00:00:00\", \"cases\": 1, \"deaths\": 0}, {\"date\": \"2020-01-25T00:00:00\", \"cases\": 1, \"deaths\": 0}, {\"date\": \"2020-01-26T00:00:00\", \"cases\": 1, \"deaths\": 0}, {\"date\": \"2020-01-27T00:00:00\", \"cases\": 1, \"deaths\": 0}, {\"date\": \"2020-01-28T00:00:00\", \"cases\": 1, \"deaths\": 0}, {\"date\": \"2020-01-29T00:00:00\", \"cases\": 1, \"deaths\": 0}, {\"date\": \"2020-01-30T00:00:00\", \"cases\": 1, \"deaths\": 0}, {\"date\": \"2020-01-31T00:00:00\", \"cases\": 1, \"deaths\": 0}, {\"date\": \"2020-02-01T00:00:00\", \"cases\": 1, \"deaths\": 0}, {\"date\": \"2020-02-02T00:00:00\", \"cases\": 1, \"deaths\": 0}, {\"date\": \"2020-02-03T00:00:00\", \"cases\": 1, \"deaths\": 0}, {\"date\": \"2020-02-04T00:00:00\", \"cases\": 1, \"deaths\": 0}, {\"date\": \"2020-02-05T00:00:00\", \"cases\": 1, \"deaths\": 0}, {\"date\": \"2020-02-06T00:00:00\", \"cases\": 1, \"deaths\": 0}, {\"date\": \"2020-02-07T00:00:00\", \"cases\": 1, \"deaths\": 0}, {\"date\": \"2020-02-08T00:00:00\", \"cases\": 1, \"deaths\": 0}, {\"date\": \"2020-02-09T00:00:00\", \"cases\": 1, \"deaths\": 0}, {\"date\": \"2020-02-10T00:00:00\", \"cases\": 1, \"deaths\": 0}, {\"date\": \"2020-02-11T00:00:00\", \"cases\": 1, \"deaths\": 0}, {\"date\": \"2020-02-12T00:00:00\", \"cases\": 1, \"deaths\": 0}, {\"date\": \"2020-02-13T00:00:00\", \"cases\": 1, \"deaths\": 0}, {\"date\": \"2020-02-14T00:00:00\", \"cases\": 1, \"deaths\": 0}, {\"date\": \"2020-02-15T00:00:00\", \"cases\": 1, \"deaths\": 0}, {\"date\": \"2020-02-16T00:00:00\", \"cases\": 1, \"deaths\": 0}, {\"date\": \"2020-02-17T00:00:00\", \"cases\": 1, \"deaths\": 0}, {\"date\": \"2020-02-18T00:00:00\", \"cases\": 1, \"deaths\": 0}, {\"date\": \"2020-02-19T00:00:00\", \"cases\": 1, \"deaths\": 0}, {\"date\": \"2020-02-20T00:00:00\", \"cases\": 1, \"deaths\": 0}, {\"date\": \"2020-02-21T00:00:00\", \"cases\": 1, \"deaths\": 0}, {\"date\": \"2020-02-22T00:00:00\", \"cases\": 1, \"deaths\": 0}, {\"date\": \"2020-02-23T00:00:00\", \"cases\": 1, \"deaths\": 0}, {\"date\": \"2020-02-24T00:00:00\", \"cases\": 1, \"deaths\": 0}, {\"date\": \"2020-02-25T00:00:00\", \"cases\": 1, \"deaths\": 0}, {\"date\": \"2020-02-26T00:00:00\", \"cases\": 1, \"deaths\": 0}, {\"date\": \"2020-02-27T00:00:00\", \"cases\": 1, \"deaths\": 0}, {\"date\": \"2020-02-28T00:00:00\", \"cases\": 1, \"deaths\": 0}, {\"date\": \"2020-02-29T00:00:00\", \"cases\": 7, \"deaths\": 1}, {\"date\": \"2020-03-01T00:00:00\", \"cases\": 11, \"deaths\": 1}, {\"date\": \"2020-03-02T00:00:00\", \"cases\": 18, \"deaths\": 6}, {\"date\": \"2020-03-03T00:00:00\", \"cases\": 27, \"deaths\": 7}, {\"date\": \"2020-03-04T00:00:00\", \"cases\": 39, \"deaths\": 10}, {\"date\": \"2020-03-05T00:00:00\", \"cases\": 70, \"deaths\": 11}, {\"date\": \"2020-03-06T00:00:00\", \"cases\": 78, \"deaths\": 13}, {\"date\": \"2020-03-07T00:00:00\", \"cases\": 102, \"deaths\": 16}, {\"date\": \"2020-03-08T00:00:00\", \"cases\": 122, \"deaths\": 18}, {\"date\": \"2020-03-09T00:00:00\", \"cases\": 122, \"deaths\": 19}, {\"date\": \"2020-03-10T00:00:00\", \"cases\": 167, \"deaths\": 23}, {\"date\": \"2020-03-11T00:00:00\", \"cases\": 282, \"deaths\": 24}, {\"date\": \"2020-03-12T00:00:00\", \"cases\": 442, \"deaths\": 31}, {\"date\": \"2020-03-13T00:00:00\", \"cases\": 568, \"deaths\": 37}, {\"date\": \"2020-03-14T00:00:00\", \"cases\": 642, \"deaths\": 39}, {\"date\": \"2020-03-15T00:00:00\", \"cases\": 603, \"deaths\": 40}, {\"date\": \"2020-03-16T00:00:00\", \"cases\": 779, \"deaths\": 48}, {\"date\": \"2020-03-17T00:00:00\", \"cases\": 955, \"deaths\": 55}, {\"date\": \"2020-03-18T00:00:00\", \"cases\": 1022, \"deaths\": 67}, {\"date\": \"2020-03-19T00:00:00\", \"cases\": 1374, \"deaths\": 73}, {\"date\": \"2020-03-20T00:00:00\", \"cases\": 1524, \"deaths\": 83}, {\"date\": \"2020-03-21T00:00:00\", \"cases\": 1793, \"deaths\": 94}, {\"date\": \"2020-03-22T00:00:00\", \"cases\": 1997, \"deaths\": 97}, {\"date\": \"2020-03-23T00:00:00\", \"cases\": 2221, \"deaths\": 109}, {\"date\": \"2020-03-24T00:00:00\", \"cases\": 2328, \"deaths\": 116}, {\"date\": \"2020-03-25T00:00:00\", \"cases\": 2591, \"deaths\": 133}, {\"date\": \"2020-03-26T00:00:00\", \"cases\": 3207, \"deaths\": 150}, {\"date\": \"2020-03-27T00:00:00\", \"cases\": 3477, \"deaths\": 157}, {\"date\": \"2020-03-28T00:00:00\", \"cases\": 4030, \"deaths\": 188}, {\"date\": \"2020-03-29T00:00:00\", \"cases\": 4465, \"deaths\": 198}, {\"date\": \"2020-03-30T00:00:00\", \"cases\": 4923, \"deaths\": 205}, {\"date\": \"2020-03-31T00:00:00\", \"cases\": 5432, \"deaths\": 225}, {\"date\": \"2020-04-01T00:00:00\", \"cases\": 5608, \"deaths\": 234}, {\"date\": \"2020-04-02T00:00:00\", \"cases\": 6389, \"deaths\": 271}, {\"date\": \"2020-04-03T00:00:00\", \"cases\": 6846, \"deaths\": 291}, {\"date\": \"2020-04-04T00:00:00\", \"cases\": 7247, \"deaths\": 315}, {\"date\": \"2020-04-05T00:00:00\", \"cases\": 7825, \"deaths\": 336}, {\"date\": \"2020-04-06T00:00:00\", \"cases\": 8311, \"deaths\": 381}, {\"date\": \"2020-04-07T00:00:00\", \"cases\": 8692, \"deaths\": 400}, {\"date\": \"2020-04-08T00:00:00\", \"cases\": 9276, \"deaths\": 426}, {\"date\": \"2020-04-09T00:00:00\", \"cases\": 9639, \"deaths\": 456}, {\"date\": \"2020-04-10T00:00:00\", \"cases\": 10119, \"deaths\": 483}, {\"date\": \"2020-04-11T00:00:00\", \"cases\": 10434, \"deaths\": 495}, {\"date\": \"2020-04-12T00:00:00\", \"cases\": 10609, \"deaths\": 506}, {\"date\": \"2020-04-13T00:00:00\", \"cases\": 10635, \"deaths\": 513}]}}, {\"mode\": \"vega-lite\"});\n",
       "</script>"
      ],
      "text/plain": [
       "alt.LayerChart(...)"
      ]
     },
     "execution_count": 7,
     "metadata": {},
     "output_type": "execute_result"
    }
   ],
   "source": [
    "base = alt.Chart(ground_truth).properties(width=550)\n",
    "cases = base.mark_line().encode(\n",
    "    x='date',\n",
    "    y='cases',\n",
    ")\n",
    "deaths = base.mark_line().encode(\n",
    "    x='date',\n",
    "    y='deaths',\n",
    ")\n",
    "cases + deaths"
   ]
  },
  {
   "cell_type": "markdown",
   "metadata": {},
   "source": [
    "# Simulation params"
   ]
  },
  {
   "cell_type": "code",
   "execution_count": null,
   "metadata": {},
   "outputs": [],
   "source": [
    "pop_infected = 1000\n",
    "beta = 0.015\n",
    "asymp_factor = 0.8\n",
    "frac_pos_tests = 0.25\n",
    "w_att_mar04 = 0.7\n",
    "w_att_mar12 = 0.4\n",
    "w_att_mar23 = 0.2\n",
    "s_att_mar12 = 0.0\n",
    "c_att_mar23 = 0.2"
   ]
  },
  {
   "cell_type": "markdown",
   "metadata": {},
   "source": [
    "# Setting up interventions"
   ]
  },
  {
   "cell_type": "code",
   "execution_count": null,
   "metadata": {},
   "outputs": [],
   "source": [
    "start_day = datetime.datetime.strptime(\"3/01/2020\", \"%m/%d/%Y\").date()\n",
    "\n",
    "date_mar04 = datetime.datetime.strptime(\"3/04/2020\", \"%m/%d/%Y\").date()\n",
    "date_mar12 = datetime.datetime.strptime(\"3/12/2020\", \"%m/%d/%Y\").date()\n",
    "date_mar23 = datetime.datetime.strptime(\"3/23/2020\", \"%m/%d/%Y\").date()\n",
    "\n",
    "day_mar04 = int( ( date_mar04 - start_day ).days )\n",
    "day_mar12 = int( ( date_mar12 - start_day ).days )\n",
    "day_mar23 = int( ( date_mar23 - start_day ).days )"
   ]
  },
  {
   "cell_type": "code",
   "execution_count": null,
   "metadata": {},
   "outputs": [],
   "source": [
    "closures = cv.change_beta( \n",
    "      days   =[  day_mar04,   day_mar12,   day_mar12,   day_mar23,   day_mar23],\n",
    "      changes=[w_att_mar04, s_att_mar12, w_att_mar12, w_att_mar23, c_att_mar23],\n",
    "      layers =[        'w',         's',         'w',         'w',         'c']\n",
    "    )"
   ]
  },
  {
   "cell_type": "markdown",
   "metadata": {},
   "source": [
    "# Run sim"
   ]
  },
  {
   "cell_type": "code",
   "execution_count": null,
   "metadata": {},
   "outputs": [],
   "source": [
    "simParams = { \"start_day\"     : start_day,\n",
    "              \"n_days\"        : 120,\n",
    "              \"pop_type\"      : \"synthpops\",\n",
    "              \"pop_size\"      : 100000,\n",
    "              \"pop_infected\"  : pop_infected,\n",
    "              \"beta\"          : beta,\n",
    "              \"asymp_factor\"  : asymp_factor,\n",
    "              \"interventions\" : closures,\n",
    "              \"rescale\": True,\n",
    "              \"pop_scale\": 76.14893  # population of 7614893 / 100k\n",
    "            }"
   ]
  },
  {
   "cell_type": "code",
   "execution_count": null,
   "metadata": {},
   "outputs": [
    {
     "name": "stdout",
     "output_type": "stream",
     "text": [
      "  Creating 100000 people...\n",
      "  Created 100000 people, average age 37.20 years\n"
     ]
    }
   ],
   "source": [
    "sim = cv.Sim(pars=simParams)\n",
    "r = sim.run(do_plot=True, verbose=False)"
   ]
  }
 ],
 "metadata": {
  "kernelspec": {
   "display_name": "Python 3",
   "language": "python",
   "name": "python3"
  },
  "language_info": {
   "codemirror_mode": {
    "name": "ipython",
    "version": 3
   },
   "file_extension": ".py",
   "mimetype": "text/x-python",
   "name": "python",
   "nbconvert_exporter": "python",
   "pygments_lexer": "ipython3",
   "version": "3.7.0"
  }
 },
 "nbformat": 4,
 "nbformat_minor": 2
}
